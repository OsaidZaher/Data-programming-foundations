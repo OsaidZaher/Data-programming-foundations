{
 "cells": [
  {
   "cell_type": "code",
   "execution_count": null,
   "metadata": {},
   "outputs": [],
   "source": [
    "import matplotlib.pyplot as plt\n"
   ]
  },
  {
   "cell_type": "code",
   "execution_count": null,
   "metadata": {},
   "outputs": [],
   "source": [
    "def get_gradient_at_b(x, y, b, m):\n",
    "    N = len(x)\n",
    "    diff = 0\n",
    "    for i in range(N):\n",
    "        x_val = x[i]\n",
    "        y_val = y[i]\n",
    "        diff += (y_val - ((m * x_val) + b))\n",
    "    b_gradient = -(2 / N) * diff  \n",
    "    return b_gradient"
   ]
  },
  {
   "cell_type": "code",
   "execution_count": null,
   "metadata": {},
   "outputs": [],
   "source": [
    "def get_gradient_at_m(x, y, b, m):\n",
    "    N = len(x)\n",
    "    diff = 0\n",
    "    for i in range(N):\n",
    "        x_val = x[i]\n",
    "        y_val = y[i]\n",
    "        diff += x_val * (y_val - ((m * x_val) + b))\n",
    "    m_gradient = -(2 / N) * diff  \n",
    "    return m_gradient"
   ]
  },
  {
   "cell_type": "code",
   "execution_count": null,
   "metadata": {},
   "outputs": [],
   "source": [
    "def step_gradient(b_current, m_current, x, y, learning_rate):\n",
    "    b_gradient = get_gradient_at_b(x, y, b_current, m_current)\n",
    "    m_gradient = get_gradient_at_m(x, y, b_current, m_current)\n",
    "    b = b_current - (learning_rate * b_gradient)\n",
    "    m = m_current - (learning_rate * m_gradient)\n",
    "    return [b, m]\n"
   ]
  },
  {
   "cell_type": "code",
   "execution_count": null,
   "metadata": {},
   "outputs": [],
   "source": [
    "def gradient_descent(x, y, num_iterations, learning_rate):\n",
    "    b, m = 0, 0\n",
    "    for i in range(num_iterations):\n",
    "        b, m = step_gradient(b, m, x, y, learning_rate)\n",
    "    return b, m\n"
   ]
  }
 ],
 "metadata": {
  "language_info": {
   "name": "python"
  }
 },
 "nbformat": 4,
 "nbformat_minor": 2
}
