{
 "cells": [
  {
   "cell_type": "code",
   "execution_count": null,
   "metadata": {},
   "outputs": [],
   "source": [
    "# Import necessary libraries for data analysis and statistics\n",
    "import codecademylib3  # Codecademy library for running code\n",
    "import pandas as pd  # For handling data in tabular format\n",
    "import numpy as np  # For numerical computations\n",
    "from scipy.stats import ttest_1samp  # For one-sample t-tests"
   ]
  },
  {
   "cell_type": "code",
   "execution_count": null,
   "metadata": {},
   "outputs": [],
   "source": [
    "# Load the heart disease dataset into a DataFrame\n",
    "heart = pd.read_csv('heart_disease.csv')  # Reads the CSV file into a DataFrame\n",
    "\n",
    "# Split the data based on the presence or absence of heart disease\n",
    "yes_hd = heart[heart.heart_disease == 'presence']  # Subset for patients with heart disease\n",
    "no_hd = heart[heart.heart_disease == 'absence']  # Subset for patients without heart disease"
   ]
  },
  {
   "cell_type": "code",
   "execution_count": null,
   "metadata": {},
   "outputs": [],
   "source": [
    "# Preview the first few rows of data for patients with heart disease\n",
    "print(yes_hd.head())  # Prints the first 5 rows of the subset\n",
    "\n",
    "# Extract cholesterol levels of patients with heart disease\n",
    "chol_hd = yes_hd.chol\n",
    "\n",
    "# Calculate and print the mean cholesterol level of patients with heart disease\n",
    "np.mean(chol_hd)  # Computes the mean of cholesterol levels\n",
    "\n",
    "# Perform a one-sample t-test on cholesterol levels against a mean value of 240\n",
    "tstat, pval = ttest_1samp(chol_hd, 240)\n",
    "\n",
    "# Print the p-value from the t-test to determine statistical significance\n",
    "print(pval)"
   ]
  },
  {
   "cell_type": "code",
   "execution_count": null,
   "metadata": {},
   "outputs": [],
   "source": [
    "\n",
    "\n",
    "# Extract cholesterol levels of patients without heart disease\n",
    "chol_no_hd = no_hd.chol\n",
    "\n",
    "# Calculate and print the mean cholesterol level of patients without heart disease\n",
    "np.mean(chol_no_hd)  # Computes the mean of cholesterol levels\n",
    "\n",
    "# Perform a one-sample t-test on cholesterol levels against a mean value of 240\n",
    "tstat, pval = ttest_1samp(chol_no_hd, 240)\n",
    "\n",
    "# Print the p-value from the t-test to determine statistical significance\n",
    "print(pval)\n",
    "\n",
    "# Print the total number of patients in the dataset\n",
    "print(len(heart))\n",
    "\n",
    "# Calculate and print the number of patients with fasting blood sugar > 120 mg/dL\n",
    "num_highfbs_patients = np.sum(heart.fbs)  # Sums the binary column indicating high fasting blood sugar\n",
    "print(num_highfbs_patients)\n",
    "\n",
    "# Calculate 8% of the total number of patients\n",
    "print(0.08 * len(heart))"
   ]
  },
  {
   "cell_type": "code",
   "execution_count": null,
   "metadata": {},
   "outputs": [],
   "source": [
    "\n",
    "# Perform a binomial test to check if the number of high fasting blood sugar patients is significantly higher than expected\n",
    "from scipy.stats import binom_test\n",
    "pval = binom_test(num_highfbs_patients, len(heart), 0.08, alternative='greater')\n",
    "\n",
    "# Print the p-value from the binomial test\n",
    "print(pval)\n"
   ]
  }
 ],
 "metadata": {
  "language_info": {
   "name": "python"
  }
 },
 "nbformat": 4,
 "nbformat_minor": 2
}
