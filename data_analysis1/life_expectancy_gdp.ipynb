{
 "cells": [
  {
   "cell_type": "code",
   "execution_count": 1,
   "metadata": {},
   "outputs": [],
   "source": [
    "from matplotlib import pyplot as plt\n",
    "import seaborn as sns\n",
    "import numpy as np\n",
    "import pandas as pd"
   ]
  },
  {
   "cell_type": "code",
   "execution_count": null,
   "metadata": {},
   "outputs": [],
   "source": [
    "df = pd.read_csv(\"all_data.csv\")\n",
    "print(df.head())\n",
    "df.info()\n",
    "\n"
   ]
  },
  {
   "cell_type": "code",
   "execution_count": null,
   "metadata": {},
   "outputs": [],
   "source": [
    "df.shape\n",
    "df.Country.unique()\n",
    "df.columns"
   ]
  },
  {
   "cell_type": "code",
   "execution_count": null,
   "metadata": {},
   "outputs": [],
   "source": [
    "plt.figure(figsize=(12,16))\n",
    "sns.lineplot(data=df,x='Year', y='Life expectancy at birth (years)', hue=\"Country\")\n",
    "plt.title(\"Life expectancy for country over years\")\n",
    "plt.xlabel(\"Year\")\n",
    "plt.ylabel(\"Life expectancy\")\n",
    "plt.xticks(rotation=45)\n",
    "plt.grid(True,alpha=.7)\n",
    "plt.show()"
   ]
  },
  {
   "cell_type": "markdown",
   "metadata": {},
   "source": [
    "We can see a positive trend for years and life expectancy"
   ]
  },
  {
   "cell_type": "code",
   "execution_count": null,
   "metadata": {},
   "outputs": [],
   "source": [
    "plt.figure(figsize=(12, 6))\n",
    "\n",
    "# Create box plot\n",
    "sns.boxplot(data=df, x='Country', y='GDP')\n",
    "\n",
    "plt.title('GDP Distribution by Country')\n",
    "plt.xlabel('Country')\n",
    "plt.ylabel('GDP')\n",
    "\n",
    "plt.xticks(rotation=45, ha='right')\n",
    "\n",
    "plt.ticklabel_format(style='plain', axis='y')\n",
    "\n",
    "\n",
    "plt.show()"
   ]
  },
  {
   "cell_type": "markdown",
   "metadata": {},
   "source": [
    "We can see the USA has the highest GDP,Germany and Mexico have lower IQR ranges indicating lower variability over the years - a more constant gdp. Have the lowest GDPs. Zimbabwe, in particular, shows very low GDP with minimal variation."
   ]
  },
  {
   "cell_type": "code",
   "execution_count": null,
   "metadata": {},
   "outputs": [],
   "source": [
    "plt.figure(figsize=(12,6))\n",
    "\n",
    "sns.scatterplot(data=df, x='GDP', y='Life expectancy at birth (years)', hue=\"Country\")\n",
    "\n",
    "plt.title('GDP vs Life Expectancy')\n",
    "plt.xlabel('GDP')\n",
    "plt.ylabel('Life Expectancy (years)')\n",
    "\n",
    "\n",
    "sns.regplot(data=df, x='GDP',  y='Life expectancy at birth (years)',  scatter=False, color='Red', line_kws={'linestyle': '--'})\n",
    "\n",
    "\n",
    "plt.show()"
   ]
  },
  {
   "cell_type": "code",
   "execution_count": null,
   "metadata": {},
   "outputs": [],
   "source": [
    "correlation = df['GDP'].corr(df['Life expectancy at birth (years)'])\n",
    "print(f\"Correlation coefficient between GDP and Life Expectancy: {correlation:.3f}\")"
   ]
  },
  {
   "cell_type": "markdown",
   "metadata": {},
   "source": [
    "We can see a moderate correlaiton betweeen GDP and life Expectancy as the correlation coeff is in the range .3-.7. We have an increasing confidence interval at the high gdps.The red shadow widens slightly as GDP increases, which suggests the model's predictions are less certain for countries with extremely high GDP values.\n"
   ]
  }
 ],
 "metadata": {
  "kernelspec": {
   "display_name": "base",
   "language": "python",
   "name": "python3"
  },
  "language_info": {
   "codemirror_mode": {
    "name": "ipython",
    "version": 3
   },
   "file_extension": ".py",
   "mimetype": "text/x-python",
   "name": "python",
   "nbconvert_exporter": "python",
   "pygments_lexer": "ipython3",
   "version": "3.12.7"
  }
 },
 "nbformat": 4,
 "nbformat_minor": 4
}
