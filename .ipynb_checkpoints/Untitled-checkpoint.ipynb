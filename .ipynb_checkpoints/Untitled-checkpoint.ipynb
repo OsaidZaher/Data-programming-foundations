{
 "cells": [
  {
   "cell_type": "markdown",
   "id": "5be79a24-d11f-4448-98b8-87f2c4f0443e",
   "metadata": {},
   "source": [
    "# Finding bmi to age correlation and graph\n",
    "## first jupyter code\n"
   ]
  },
  {
   "cell_type": "code",
   "execution_count": 17,
   "id": "04e299e1-f9d7-4550-9b89-735cf22e5086",
   "metadata": {},
   "outputs": [],
   "source": [
    "\n",
    "import csv\n",
    "import matplotlib.pyplot as plt\n",
    "import numpy as np"
   ]
  },
  {
   "cell_type": "code",
   "execution_count": 18,
   "id": "a512b3c7-e513-4cbf-8155-5fe267585442",
   "metadata": {
    "scrolled": true
   },
   "outputs": [],
   "source": [
    "def load_list_data( csv_file, col):\n",
    "    with open(csv_file) as csv_info:\n",
    "        csv_dict = csv.DictReader(csv_info)\n",
    "        return [row[col] for row in csv_dict]"
   ]
  },
  {
   "cell_type": "code",
   "execution_count": 19,
   "id": "4bad78e2-adb7-42a8-9fc2-11171888c13d",
   "metadata": {
    "scrolled": true
   },
   "outputs": [],
   "source": [
    "\n",
    "\n",
    "ages = load_list_data('insurance.csv', 'age')\n",
    "sexes = load_list_data('insurance.csv', 'sex')\n",
    "bmis = load_list_data('insurance.csv', 'bmi')\n",
    "num_children = load_list_data('insurance.csv', 'children')\n",
    "smoker_statuses = load_list_data('insurance.csv', 'smoker')\n",
    "regions = load_list_data('insurance.csv', 'region')\n",
    "insurance_charges = load_list_data('insurance.csv', 'charges')\n",
    "        "
   ]
  },
  {
   "cell_type": "code",
   "execution_count": null,
   "id": "f6d40e83-5616-49a6-98c1-d8fc0c984c49",
   "metadata": {},
   "outputs": [],
   "source": []
  },
  {
   "cell_type": "code",
   "execution_count": 20,
   "id": "aeeb86d5-4a32-4561-9c5b-224dc70af620",
   "metadata": {},
   "outputs": [
    {
     "ename": "NameError",
     "evalue": "name 'bmi_values' is not defined",
     "output_type": "error",
     "traceback": [
      "\u001b[1;31m---------------------------------------------------------------------------\u001b[0m",
      "\u001b[1;31mNameError\u001b[0m                                 Traceback (most recent call last)",
      "Cell \u001b[1;32mIn[20], line 8\u001b[0m\n\u001b[0;32m      6\u001b[0m     \u001b[38;5;28mprint\u001b[39m(\u001b[38;5;124mf\u001b[39m\u001b[38;5;124m\"\u001b[39m\u001b[38;5;124mCorrelation between BMI and age: \u001b[39m\u001b[38;5;132;01m{\u001b[39;00mcorrelation\u001b[38;5;132;01m:\u001b[39;00m\u001b[38;5;124m.3f\u001b[39m\u001b[38;5;132;01m}\u001b[39;00m\u001b[38;5;124m\"\u001b[39m)\n\u001b[0;32m      7\u001b[0m     \u001b[38;5;28;01mreturn\u001b[39;00m correlation\n\u001b[1;32m----> 8\u001b[0m correlation \u001b[38;5;241m=\u001b[39m calculate_bmi_age_correlation(bmis, ages)\n\u001b[0;32m     10\u001b[0m \u001b[38;5;28;01mimport\u001b[39;00m \u001b[38;5;21;01mmatplotlib\u001b[39;00m\u001b[38;5;21;01m.\u001b[39;00m\u001b[38;5;21;01mpyplot\u001b[39;00m \u001b[38;5;28;01mas\u001b[39;00m \u001b[38;5;21;01mplt\u001b[39;00m\n\u001b[0;32m     12\u001b[0m \u001b[38;5;28;01mdef\u001b[39;00m \u001b[38;5;21mplot_bmi_age_correlation\u001b[39m(bmis, ages):\n",
      "Cell \u001b[1;32mIn[20], line 4\u001b[0m, in \u001b[0;36mcalculate_bmi_age_correlation\u001b[1;34m(bmis, ages)\u001b[0m\n\u001b[0;32m      1\u001b[0m \u001b[38;5;28;01mdef\u001b[39;00m \u001b[38;5;21mcalculate_bmi_age_correlation\u001b[39m(bmis, ages):\n\u001b[0;32m      2\u001b[0m     age_values \u001b[38;5;241m=\u001b[39m [\u001b[38;5;28mfloat\u001b[39m(age) \u001b[38;5;28;01mfor\u001b[39;00m age \u001b[38;5;129;01min\u001b[39;00m ages]\n\u001b[1;32m----> 4\u001b[0m     correlation \u001b[38;5;241m=\u001b[39m np\u001b[38;5;241m.\u001b[39mcorrcoef(bmi_values, age_values)[\u001b[38;5;241m0\u001b[39m, \u001b[38;5;241m1\u001b[39m]\n\u001b[0;32m      6\u001b[0m     \u001b[38;5;28mprint\u001b[39m(\u001b[38;5;124mf\u001b[39m\u001b[38;5;124m\"\u001b[39m\u001b[38;5;124mCorrelation between BMI and age: \u001b[39m\u001b[38;5;132;01m{\u001b[39;00mcorrelation\u001b[38;5;132;01m:\u001b[39;00m\u001b[38;5;124m.3f\u001b[39m\u001b[38;5;132;01m}\u001b[39;00m\u001b[38;5;124m\"\u001b[39m)\n\u001b[0;32m      7\u001b[0m     \u001b[38;5;28;01mreturn\u001b[39;00m correlation\n",
      "\u001b[1;31mNameError\u001b[0m: name 'bmi_values' is not defined"
     ]
    }
   ],
   "source": [
    "def calculate_bmi_age_correlation(bmis, ages):\n",
    "    age_values = [float(age) for age in ages]\n",
    "    bmi_values = [float(age) for bmi in bmis]\n",
    "    \n",
    "    correlation = np.corrcoef(bmi_values, age_values)[0, 1]\n",
    "    \n",
    "    print(f\"Correlation between BMI and age: {correlation:.3f}\")\n",
    "    return correlation\n",
    "correlation = calculate_bmi_age_correlation(bmis, ages)\n",
    "\n",
    "import matplotlib.pyplot as plt\n",
    "\n",
    "def plot_bmi_age_correlation(bmis, ages):\n",
    "    plt.figure(figsize=(10, 6))\n",
    "    plt.scatter(ages, bmis, alpha=0.5)\n",
    "    plt.xlabel('Age')\n",
    "    plt.ylabel('BMI')\n",
    "    plt.title('BMI vs Age Correlation')\n",
    "    plt.grid(True)\n",
    "    plt.show()\n",
    "\n",
    "plot_bmi_age_correlation(bmis, ages)"
   ]
  },
  {
   "cell_type": "code",
   "execution_count": null,
   "id": "f562a673-6067-4333-bd29-2b949677b13f",
   "metadata": {},
   "outputs": [],
   "source": []
  },
  {
   "cell_type": "code",
   "execution_count": null,
   "id": "bdf63deb-3c96-4398-a287-6f7f87437edd",
   "metadata": {},
   "outputs": [],
   "source": []
  }
 ],
 "metadata": {
  "kernelspec": {
   "display_name": "Python 3 (ipykernel)",
   "language": "python",
   "name": "python3"
  },
  "language_info": {
   "codemirror_mode": {
    "name": "ipython",
    "version": 3
   },
   "file_extension": ".py",
   "mimetype": "text/x-python",
   "name": "python",
   "nbconvert_exporter": "python",
   "pygments_lexer": "ipython3",
   "version": "3.12.7"
  }
 },
 "nbformat": 4,
 "nbformat_minor": 5
}
